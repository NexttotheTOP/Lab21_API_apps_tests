{
 "cells": [
  {
   "cell_type": "markdown",
   "id": "a7d72b79-a3bf-4bd2-94c1-6e91425100c7",
   "metadata": {},
   "source": [
    "# AI21 Labs Tutorial: how to create a contextual answers app"
   ]
  },
  {
   "cell_type": "markdown",
   "id": "d477d307-07d4-4d1e-b22e-138b1081dc5b",
   "metadata": {},
   "source": [
    "## Setting up the project "
   ]
  },
  {
   "cell_type": "code",
   "execution_count": null,
   "id": "11c435af-3bc7-4c06-afd3-e8129bb3b45c",
   "metadata": {},
   "outputs": [],
   "source": [
    "pip install flask"
   ]
  },
  {
   "cell_type": "code",
   "execution_count": null,
   "id": "8029f3ef-1c03-44d0-8c6d-d16f25479276",
   "metadata": {},
   "outputs": [],
   "source": []
  }
 ],
 "metadata": {
  "kernelspec": {
   "display_name": "Python 3 (ipykernel)",
   "language": "python",
   "name": "python3"
  },
  "language_info": {
   "codemirror_mode": {
    "name": "ipython",
    "version": 3
   },
   "file_extension": ".py",
   "mimetype": "text/x-python",
   "name": "python",
   "nbconvert_exporter": "python",
   "pygments_lexer": "ipython3",
   "version": "3.10.4"
  }
 },
 "nbformat": 4,
 "nbformat_minor": 5
}
