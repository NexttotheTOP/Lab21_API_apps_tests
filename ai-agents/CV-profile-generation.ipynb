{
 "cells": [
  {
   "cell_type": "code",
   "execution_count": 1,
   "id": "5c4b1269-4337-400c-86e8-1fb2d3253cd7",
   "metadata": {},
   "outputs": [],
   "source": [
    "import ai21"
   ]
  },
  {
   "cell_type": "code",
   "execution_count": 2,
   "id": "025ff784-47f4-4ea6-b2d0-719bd7ace1a6",
   "metadata": {},
   "outputs": [],
   "source": [
    "ai21.api_key = \"4dQi4MQDfnINYIthRMZc1ieFwuABrBCP\"\n",
    "assert ai21.api_key != \"\", \"4dQi4MQDfnINYIthRMZc1ieFwuABrBCP\""
   ]
  },
  {
   "cell_type": "code",
   "execution_count": 3,
   "id": "27c6421c-d8ea-472b-aa78-adaff57b2661",
   "metadata": {},
   "outputs": [
    {
     "name": "stdout",
     "output_type": "stream",
     "text": [
      "Experienced Sales Executive with a proven track record of success in generating new business and developing long-lasting relationships with clients. Skilled in networking and negotiation, with a strong understanding of the sales process and ability to effectively close deals. Excellent communicator and motivator, with a passion to increase sales and drive growth for any organization.\n"
     ]
    }
   ],
   "source": [
    "instruction = \"Write a winning CV profile for Sales Executive:\\n\"\n",
    "\n",
    "response = ai21.Completion.execute(model=\"j2-mid\",\n",
    "                                   prompt=instruction,\n",
    "                                   maxTokens=100)\n",
    "\n",
    "print(response['completions'][0]['data']['text'])"
   ]
  },
  {
   "cell_type": "code",
   "execution_count": 4,
   "id": "b659a4ae-f098-49cd-a526-9345732c3c84",
   "metadata": {},
   "outputs": [
    {
     "name": "stdout",
     "output_type": "stream",
     "text": [
      "Energetic and ambitious Sales Executive with over 6 years of successful experience in selling a diverse range of products and services. Independent and results-oriented, with a strong focus on the customer-centric approach and a proven track record of achieving sales targets and growing relationships with clients.\n",
      "\n",
      "MBA from Stanford, with a concentration in Marketing and Sales, provides a solid foundation for understanding customer needs and developing effective sales strategies. I am also well-versed in the latest sales and marketing techniques, including digital marketing, social media, and data analytics.\n",
      "\n",
      "If you are looking for a highly motivated and sales-focused individual with a strong work ethic and a passion for success, please don't hesitate to contact me. I look forward to discussing your needs and requirements and how I can contribute to your team's success.\n"
     ]
    }
   ],
   "source": [
    "detailed_instruction = \"\"\"Write a winning CV profile for Sales Executive incorporating the following features:\n",
    "1. Energetic and ambitious\n",
    "2. 6 years of selling experience\n",
    "3. Independent\n",
    "4. MBA from Stanford\n",
    "\"\"\"\n",
    "\n",
    "detailed_response = ai21.Completion.execute(model=\"j2-mid\",\n",
    "                                   prompt=detailed_instruction,\n",
    "                                   maxTokens=100)\n",
    "\n",
    "print(detailed_response['completions'][0]['data']['text'])"
   ]
  },
  {
   "cell_type": "code",
   "execution_count": 5,
   "id": "539199f5-99e8-41e2-a4e3-cb972b9bd0b0",
   "metadata": {},
   "outputs": [],
   "source": [
    "EXAMPLES_DATA = [\n",
    "    {\"role\": \"Business Manager\", \n",
    "     \"skills\": [\"Logical mind\", \"Problem solver\", \"2 years of experience in management\", \"Eager to learn\"], \n",
    "     \"profile\": \"I have a clear, logical mind with a practical approach to problem-solving and a drive to see things through to completion. I have more than 2 years of experience in managing and leading teams across multiple sectors. I am eager to learn, I enjoy overcoming challenges, and I have a genuine interest in Business Management and making organisations successful.\"},\n",
    "    {\"role\": \"Chemical Engineer\",\n",
    "     \"skills\": [\"Hard worker and devoted\", \"Background in: design, plant operations, offshore operations, and process and safety improvements\", \"Experience in: designing, testing and analysing processes\"],\n",
    "     \"profile\": \"I am a dedicated, hardworking and proactive Chemical Engineer with a strong background in design, plant operations, offshore operations, and process and safety improvements. I have solid work experience in designing, testing and analysing processes to increase the overall efficiency of operations. I am currently looking for an opportunity to utilise my technical skills in a challenging working environment and become a valuable asset to the organisation that I work for.\"},\n",
    "    {\"role\": \"IT Professional\",\n",
    "     \"skills\": [\"5 years experience\", \"Record designing websites, networking and managing databases\", \"Excellent interpersonal skills\", \"Looking for a challenge\"],\n",
    "     \"profile\": \"I am a highly competent IT professional with 5 years of relevant industry experience and  a proven track record in designing websites, networking and managing databases. I have strong technical skills as well as excellent interpersonal skills, enabling me to interact with a wide range of clients. I am eager to be challenged in order to grow and further improve my IT skills. My greatest passion is in life is using my technical know-how to benefit other people and organisations.\"\n",
    "    }\n",
    "]"
   ]
  },
  {
   "cell_type": "code",
   "execution_count": 6,
   "id": "f3326a43-4c69-4f0b-8f3f-f350c1467ec3",
   "metadata": {},
   "outputs": [],
   "source": [
    "def enumerate_skills(skills):\n",
    "    return \"\\n\".join(\n",
    "        f\"{i:d}. {s}\" for i, s in enumerate(skills, start=1)\n",
    "    )\n",
    "\n",
    "def make_single_example(role, skills, profile):   \n",
    "    example = f\"Write a winning CV profile for {role} incorporating the following features:\\n\"\n",
    "    example += enumerate_skills(skills)\n",
    "    example += \"\\n\\n\"\n",
    "    example += \"Profile:\\n\"\n",
    "    example += profile\n",
    "    \n",
    "    return example\n",
    "\n",
    "SEPARATOR = \"\\n\\n##\\n\\n\"\n",
    "\n",
    "FEW_SHOT_PREFIX = SEPARATOR.join(\n",
    "    make_single_example(x[\"role\"], x[\"skills\"], x[\"profile\"]) for x in EXAMPLES_DATA\n",
    ")"
   ]
  },
  {
   "cell_type": "code",
   "execution_count": null,
   "id": "12b3d8de-f997-43ac-9f37-8ce5cabe8e0a",
   "metadata": {},
   "outputs": [],
   "source": []
  }
 ],
 "metadata": {
  "kernelspec": {
   "display_name": "Python 3 (ipykernel)",
   "language": "python",
   "name": "python3"
  },
  "language_info": {
   "codemirror_mode": {
    "name": "ipython",
    "version": 3
   },
   "file_extension": ".py",
   "mimetype": "text/x-python",
   "name": "python",
   "nbconvert_exporter": "python",
   "pygments_lexer": "ipython3",
   "version": "3.10.4"
  }
 },
 "nbformat": 4,
 "nbformat_minor": 5
}
