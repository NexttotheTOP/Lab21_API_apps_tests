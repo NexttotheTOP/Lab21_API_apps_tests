{
 "cells": [
  {
   "cell_type": "code",
   "execution_count": 1,
   "id": "5c4b1269-4337-400c-86e8-1fb2d3253cd7",
   "metadata": {},
   "outputs": [],
   "source": [
    "import ai21"
   ]
  },
  {
   "cell_type": "code",
   "execution_count": 2,
   "id": "025ff784-47f4-4ea6-b2d0-719bd7ace1a6",
   "metadata": {},
   "outputs": [],
   "source": [
    "ai21.api_key = \"4dQi4MQDfnINYIthRMZc1ieFwuABrBCP\"\n",
    "assert ai21.api_key != \"\", \"4dQi4MQDfnINYIthRMZc1ieFwuABrBCP\""
   ]
  },
  {
   "cell_type": "code",
   "execution_count": 3,
   "id": "27c6421c-d8ea-472b-aa78-adaff57b2661",
   "metadata": {},
   "outputs": [
    {
     "name": "stdout",
     "output_type": "stream",
     "text": [
      "Experienced Sales Executive with a proven track record of success in generating new business and developing long-lasting relationships with clients. Skilled in networking and negotiation, with a strong understanding of the sales process and ability to effectively close deals. Excellent communicator and motivator, with a passion to increase sales and drive growth for any organization.\n"
     ]
    }
   ],
   "source": [
    "instruction = \"Write a winning CV profile for Sales Executive:\\n\"\n",
    "\n",
    "response = ai21.Completion.execute(model=\"j2-mid\",\n",
    "                                   prompt=instruction,\n",
    "                                   maxTokens=100)\n",
    "\n",
    "print(response['completions'][0]['data']['text'])"
   ]
  },
  {
   "cell_type": "code",
   "execution_count": null,
   "id": "b659a4ae-f098-49cd-a526-9345732c3c84",
   "metadata": {},
   "outputs": [],
   "source": []
  }
 ],
 "metadata": {
  "kernelspec": {
   "display_name": "Python 3 (ipykernel)",
   "language": "python",
   "name": "python3"
  },
  "language_info": {
   "codemirror_mode": {
    "name": "ipython",
    "version": 3
   },
   "file_extension": ".py",
   "mimetype": "text/x-python",
   "name": "python",
   "nbconvert_exporter": "python",
   "pygments_lexer": "ipython3",
   "version": "3.10.4"
  }
 },
 "nbformat": 4,
 "nbformat_minor": 5
}
