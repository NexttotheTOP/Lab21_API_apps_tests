{
 "cells": [
  {
   "cell_type": "markdown",
   "id": "732f1e4a-46f1-4ed7-a9a7-168fe48ae59d",
   "metadata": {},
   "source": [
    "## AI Agents tutorial: How to use and build AI Agents"
   ]
  },
  {
   "cell_type": "code",
   "execution_count": 1,
   "id": "d4b3bc88-3ee5-4ac7-ae6f-8d217099dc40",
   "metadata": {},
   "outputs": [],
   "source": [
    "import requests\n",
    "\n",
    "from langchain import OpenAI\n",
    "from langchain.agents import initialize_agent, load_tools, Tool\n",
    "from langchain.chains import LLMChain\n",
    "from langchain.prompts import PromptTemplate\n",
    "from langchain.tools import DuckDuckGoSearchRun"
   ]
  },
  {
   "cell_type": "code",
   "execution_count": null,
   "id": "30e67589-6b2a-4e25-935b-a46be40e7bfc",
   "metadata": {},
   "outputs": [],
   "source": [
    "pip install -U ai21"
   ]
  },
  {
   "cell_type": "code",
   "execution_count": 7,
   "id": "b63f1596-47c0-42e8-bd56-91877ef06778",
   "metadata": {},
   "outputs": [],
   "source": [
    "import ai21"
   ]
  },
  {
   "cell_type": "code",
   "execution_count": 11,
   "id": "73149c4e-855a-4de5-80ce-679cb63c7e02",
   "metadata": {},
   "outputs": [],
   "source": [
    "ai21.api_key  = \"lhG0AgKVZRa54gegB0ZcZGmBEY94PYaJ\""
   ]
  },
  {
   "cell_type": "code",
   "execution_count": 12,
   "id": "e0a62fdc-3220-4bab-bb5c-40a504b73f03",
   "metadata": {},
   "outputs": [],
   "source": [
    "prompt = \"what is lablab21\""
   ]
  },
  {
   "cell_type": "code",
   "execution_count": 13,
   "id": "e6d85dcb-c997-481c-a466-68f91e96ed4e",
   "metadata": {},
   "outputs": [],
   "source": [
    "response = ai21.Completion.execute(\n",
    "    model='j1-large',\n",
    "    prompt=prompt,\n",
    "    temperature=0.65,\n",
    "    minTokens=4,\n",
    "    maxTokens=32,\n",
    "    numResults=1\n",
    ")"
   ]
  },
  {
   "cell_type": "code",
   "execution_count": 15,
   "id": "9752c004-0e9c-48eb-9e91-6dfae5b22d23",
   "metadata": {},
   "outputs": [],
   "source": [
    "\n",
    "llm = OpenAI(\n",
    "    openai_api_key=OPENAI_API_KEY,\n",
    "    temperature=0.8,\n",
    "    model_name=\"text-davinci-003\"\n",
    ")\n",
    "\n",
    "prompt = PromptTemplate(\n",
    "  input_variables=[\"query\"],\n",
    "  template=\"You are New Native Internal Bot. Help users with their important tasks, like a professor in a particular field. Query: {query}\"\n",
    ")\n",
    "\n",
    "llm_chain = LLMChain(llm=llm, prompt=prompt)"
   ]
  },
  {
   "cell_type": "code",
   "execution_count": null,
   "id": "0ebbc9b2-46e4-4c24-b028-f11ca2baa6b1",
   "metadata": {},
   "outputs": [],
   "source": [
    "pip install openai"
   ]
  },
  {
   "cell_type": "code",
   "execution_count": null,
   "id": "859034b2-27e5-422c-a003-4ed441371df1",
   "metadata": {
    "scrolled": true
   },
   "outputs": [],
   "source": [
    "llm_chain.run(\"What is lablab.Ai\")"
   ]
  },
  {
   "cell_type": "code",
   "execution_count": null,
   "id": "0e434b52-2fcc-42e3-aa29-db32dac6d392",
   "metadata": {},
   "outputs": [],
   "source": []
  }
 ],
 "metadata": {
  "kernelspec": {
   "display_name": "Python 3 (ipykernel)",
   "language": "python",
   "name": "python3"
  },
  "language_info": {
   "codemirror_mode": {
    "name": "ipython",
    "version": 3
   },
   "file_extension": ".py",
   "mimetype": "text/x-python",
   "name": "python",
   "nbconvert_exporter": "python",
   "pygments_lexer": "ipython3",
   "version": "3.10.4"
  }
 },
 "nbformat": 4,
 "nbformat_minor": 5
}
